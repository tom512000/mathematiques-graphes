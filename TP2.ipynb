{
 "cells": [
  {
   "cell_type": "markdown",
   "id": "de122aca",
   "metadata": {},
   "source": [
    "# Relations binaires"
   ]
  },
  {
   "cell_type": "markdown",
   "id": "0cdac9ed",
   "metadata": {},
   "source": [
    "## 1. Propriétés des relations binaires"
   ]
  },
  {
   "cell_type": "markdown",
   "id": "b1ca6ea1",
   "metadata": {},
   "source": [
    "### 1.1 Construction des matrices test"
   ]
  },
  {
   "cell_type": "code",
   "execution_count": 1,
   "id": "5850af89",
   "metadata": {},
   "outputs": [],
   "source": [
    "import numpy as np\n",
    "from dirmaths import *"
   ]
  },
  {
   "cell_type": "code",
   "execution_count": 2,
   "id": "d878a2ac",
   "metadata": {},
   "outputs": [],
   "source": [
    "M1 = np.array([[1,1,0],[1,1,0],[0,0,1]])\n",
    "M2 = np.array([[1,1,1],[1,0,0],[0,0,1]])\n",
    "M3 = np.array([[1,1,1],[0,1,1],[0,0,1]])\n",
    "M4 = np.array([[1,0,1],[0,0,0],[0,0,0]])"
   ]
  },
  {
   "cell_type": "code",
   "execution_count": 3,
   "id": "94c67dba",
   "metadata": {},
   "outputs": [
    {
     "name": "stdout",
     "output_type": "stream",
     "text": [
      "[[1 1 0]\n",
      " [1 1 0]\n",
      " [0 0 1]]\n"
     ]
    }
   ],
   "source": [
    "print(M1)"
   ]
  },
  {
   "cell_type": "code",
   "execution_count": 4,
   "id": "b17b7e9b",
   "metadata": {},
   "outputs": [
    {
     "name": "stdout",
     "output_type": "stream",
     "text": [
      "[[1 1 1]\n",
      " [1 0 0]\n",
      " [0 0 1]]\n"
     ]
    }
   ],
   "source": [
    "print(M2)"
   ]
  },
  {
   "cell_type": "code",
   "execution_count": 5,
   "id": "9b223044",
   "metadata": {},
   "outputs": [
    {
     "name": "stdout",
     "output_type": "stream",
     "text": [
      "[[1 1 1]\n",
      " [0 1 1]\n",
      " [0 0 1]]\n"
     ]
    }
   ],
   "source": [
    "print(M3)"
   ]
  },
  {
   "cell_type": "code",
   "execution_count": 6,
   "id": "ec890369",
   "metadata": {},
   "outputs": [
    {
     "name": "stdout",
     "output_type": "stream",
     "text": [
      "[[1 0 1]\n",
      " [0 0 0]\n",
      " [0 0 0]]\n"
     ]
    }
   ],
   "source": [
    "print(M4)"
   ]
  },
  {
   "cell_type": "markdown",
   "id": "81fe6e21",
   "metadata": {},
   "source": [
    "### 1.2 Exercice : réflexivité"
   ]
  },
  {
   "cell_type": "code",
   "execution_count": 7,
   "id": "904edaac",
   "metadata": {},
   "outputs": [],
   "source": [
    "def reflexive(M: list) -> bool:\n",
    "    res = True\n",
    "    n = len(M)\n",
    "    for i in range(n):\n",
    "        if not M[i][i]:\n",
    "            res = False\n",
    "    return res"
   ]
  },
  {
   "cell_type": "code",
   "execution_count": 8,
   "id": "cf43c21f",
   "metadata": {},
   "outputs": [
    {
     "name": "stdout",
     "output_type": "stream",
     "text": [
      "True False True False\n"
     ]
    }
   ],
   "source": [
    "print(reflexive(M1),reflexive(M2),reflexive(M3),reflexive(M4))"
   ]
  },
  {
   "cell_type": "markdown",
   "id": "2a65f597",
   "metadata": {},
   "source": [
    "### 1.3 Exercice : symétrie et antisymétrie"
   ]
  },
  {
   "cell_type": "code",
   "execution_count": 9,
   "id": "3da3d592",
   "metadata": {},
   "outputs": [],
   "source": [
    "def symetrique(M: list) -> bool:\n",
    "    e = 0\n",
    "    for i in range(len(M)):\n",
    "        for j in range(len(M[i])):\n",
    "            if M[i][j] != M[j][i]:\n",
    "                e += 1\n",
    "            if e == 0:\n",
    "                res = True\n",
    "            else:\n",
    "                res = False\n",
    "    return res"
   ]
  },
  {
   "cell_type": "code",
   "execution_count": 10,
   "id": "3f5bdaf8",
   "metadata": {},
   "outputs": [],
   "source": [
    "def antisymetrique(M: list) -> bool:\n",
    "    e = 0\n",
    "    for i in range(len(M)):\n",
    "        for j in range(len(M[i])):\n",
    "            if ((M[i][j] == M[j][i]) and (M[j][i] == 1) and (i != j)):\n",
    "                e += 1\n",
    "            if e == 0:\n",
    "                res = True\n",
    "            else:\n",
    "                res = False\n",
    "    return res"
   ]
  },
  {
   "cell_type": "code",
   "execution_count": 11,
   "id": "fcb6418b",
   "metadata": {},
   "outputs": [
    {
     "name": "stdout",
     "output_type": "stream",
     "text": [
      "True False False False\n"
     ]
    }
   ],
   "source": [
    "print(symetrique(M1),symetrique(M2),symetrique(M3),symetrique(M4))"
   ]
  },
  {
   "cell_type": "code",
   "execution_count": 12,
   "id": "e7b82a54",
   "metadata": {},
   "outputs": [
    {
     "name": "stdout",
     "output_type": "stream",
     "text": [
      "False False True True\n"
     ]
    }
   ],
   "source": [
    "print(antisymetrique(M1),antisymetrique(M2),antisymetrique(M3),antisymetrique(M4))"
   ]
  },
  {
   "cell_type": "markdown",
   "id": "c0af2d31",
   "metadata": {},
   "source": [
    "### 1.4 Exercice : transitivité"
   ]
  },
  {
   "cell_type": "code",
   "execution_count": 13,
   "id": "61fe6824",
   "metadata": {},
   "outputs": [
    {
     "data": {
      "image/svg+xml": [
       "<?xml version=\"1.0\" encoding=\"UTF-8\" standalone=\"no\"?>\n",
       "<!DOCTYPE svg PUBLIC \"-//W3C//DTD SVG 1.1//EN\"\n",
       " \"http://www.w3.org/Graphics/SVG/1.1/DTD/svg11.dtd\">\n",
       "<!-- Generated by graphviz version 2.43.0 (0)\n",
       " -->\n",
       "<!-- Title: M1 Pages: 1 -->\n",
       "<svg width=\"120pt\" height=\"128pt\"\n",
       " viewBox=\"0.00 0.00 120.00 128.00\" xmlns=\"http://www.w3.org/2000/svg\" xmlns:xlink=\"http://www.w3.org/1999/xlink\">\n",
       "<g id=\"graph0\" class=\"graph\" transform=\"scale(1 1) rotate(0) translate(4 124)\">\n",
       "<title>M1</title>\n",
       "<polygon fill=\"transparent\" stroke=\"transparent\" points=\"-4,4 -4,-124 116,-124 116,4 -4,4\"/>\n",
       "<text text-anchor=\"middle\" x=\"56\" y=\"-9.2\" font-family=\"Times,serif\" font-size=\"16.00\" fill=\"grey\">M1</text>\n",
       "<!-- 0 -->\n",
       "<g id=\"node1\" class=\"node\">\n",
       "<title>0</title>\n",
       "<ellipse fill=\"#ffffff\" stroke=\"grey\" cx=\"14.5\" cy=\"-105.5\" rx=\"14.5\" ry=\"14.5\"/>\n",
       "<text text-anchor=\"middle\" x=\"14.5\" y=\"-101.8\" font-family=\"Times,serif\" font-size=\"14.00\">0</text>\n",
       "</g>\n",
       "<!-- 0&#45;&gt;0 -->\n",
       "<g id=\"edge1\" class=\"edge\">\n",
       "<title>0&#45;&gt;0</title>\n",
       "<path fill=\"none\" stroke=\"grey\" d=\"M25.49,-115.2C35.81,-120.23 47,-117 47,-105.5 47,-96.52 40.17,-92.58 32.26,-93.68\"/>\n",
       "<polygon fill=\"grey\" stroke=\"grey\" points=\"31.44,-91.37 25.49,-95.8 32.9,-96.05 31.44,-91.37\"/>\n",
       "</g>\n",
       "<!-- 1 -->\n",
       "<g id=\"node2\" class=\"node\">\n",
       "<title>1</title>\n",
       "<ellipse fill=\"#ffffff\" stroke=\"grey\" cx=\"14.5\" cy=\"-40.5\" rx=\"14.5\" ry=\"14.5\"/>\n",
       "<text text-anchor=\"middle\" x=\"14.5\" y=\"-36.8\" font-family=\"Times,serif\" font-size=\"14.00\">1</text>\n",
       "</g>\n",
       "<!-- 0&#45;&gt;1 -->\n",
       "<g id=\"edge2\" class=\"edge\">\n",
       "<title>0&#45;&gt;1</title>\n",
       "<path fill=\"none\" stroke=\"grey\" d=\"M9,-92.05C7.66,-83.17 7.4,-71.04 8.21,-60.89\"/>\n",
       "<polygon fill=\"grey\" stroke=\"grey\" points=\"10.65,-61.15 9,-53.92 5.78,-60.6 10.65,-61.15\"/>\n",
       "</g>\n",
       "<!-- 1&#45;&gt;0 -->\n",
       "<g id=\"edge3\" class=\"edge\">\n",
       "<title>1&#45;&gt;0</title>\n",
       "<path fill=\"none\" stroke=\"grey\" d=\"M20,-53.92C21.34,-62.8 21.6,-74.93 20.79,-85.08\"/>\n",
       "<polygon fill=\"grey\" stroke=\"grey\" points=\"18.35,-84.82 20,-92.05 23.22,-85.37 18.35,-84.82\"/>\n",
       "</g>\n",
       "<!-- 1&#45;&gt;1 -->\n",
       "<g id=\"edge4\" class=\"edge\">\n",
       "<title>1&#45;&gt;1</title>\n",
       "<path fill=\"none\" stroke=\"grey\" d=\"M25.49,-50.2C35.81,-55.23 47,-52 47,-40.5 47,-31.52 40.17,-27.58 32.26,-28.68\"/>\n",
       "<polygon fill=\"grey\" stroke=\"grey\" points=\"31.44,-26.37 25.49,-30.8 32.9,-31.05 31.44,-26.37\"/>\n",
       "</g>\n",
       "<!-- 2 -->\n",
       "<g id=\"node3\" class=\"node\">\n",
       "<title>2</title>\n",
       "<ellipse fill=\"#ffffff\" stroke=\"grey\" cx=\"79.5\" cy=\"-105.5\" rx=\"14.5\" ry=\"14.5\"/>\n",
       "<text text-anchor=\"middle\" x=\"79.5\" y=\"-101.8\" font-family=\"Times,serif\" font-size=\"14.00\">2</text>\n",
       "</g>\n",
       "<!-- 2&#45;&gt;2 -->\n",
       "<g id=\"edge5\" class=\"edge\">\n",
       "<title>2&#45;&gt;2</title>\n",
       "<path fill=\"none\" stroke=\"grey\" d=\"M90.49,-115.2C100.81,-120.23 112,-117 112,-105.5 112,-96.52 105.17,-92.58 97.26,-93.68\"/>\n",
       "<polygon fill=\"grey\" stroke=\"grey\" points=\"96.44,-91.37 90.49,-95.8 97.9,-96.05 96.44,-91.37\"/>\n",
       "</g>\n",
       "</g>\n",
       "</svg>\n"
      ],
      "text/plain": [
       "<graphviz.graphs.Digraph at 0x7fb9a0062e20>"
      ]
     },
     "execution_count": 13,
     "metadata": {},
     "output_type": "execute_result"
    }
   ],
   "source": [
    "display(M1,title=\"M1\",dispo=\"dot\")\n",
    "# Transitif car 0 -> 1, 1 -> 0 et 0 -> 0"
   ]
  },
  {
   "cell_type": "code",
   "execution_count": 14,
   "id": "1e4d16d0",
   "metadata": {},
   "outputs": [
    {
     "data": {
      "image/svg+xml": [
       "<?xml version=\"1.0\" encoding=\"UTF-8\" standalone=\"no\"?>\n",
       "<!DOCTYPE svg PUBLIC \"-//W3C//DTD SVG 1.1//EN\"\n",
       " \"http://www.w3.org/Graphics/SVG/1.1/DTD/svg11.dtd\">\n",
       "<!-- Generated by graphviz version 2.43.0 (0)\n",
       " -->\n",
       "<!-- Title: M2 Pages: 1 -->\n",
       "<svg width=\"102pt\" height=\"128pt\"\n",
       " viewBox=\"0.00 0.00 102.00 128.00\" xmlns=\"http://www.w3.org/2000/svg\" xmlns:xlink=\"http://www.w3.org/1999/xlink\">\n",
       "<g id=\"graph0\" class=\"graph\" transform=\"scale(1 1) rotate(0) translate(4 124)\">\n",
       "<title>M2</title>\n",
       "<polygon fill=\"transparent\" stroke=\"transparent\" points=\"-4,4 -4,-124 98,-124 98,4 -4,4\"/>\n",
       "<text text-anchor=\"middle\" x=\"47\" y=\"-9.2\" font-family=\"Times,serif\" font-size=\"16.00\" fill=\"grey\">M2</text>\n",
       "<!-- 0 -->\n",
       "<g id=\"node1\" class=\"node\">\n",
       "<title>0</title>\n",
       "<ellipse fill=\"#ffffff\" stroke=\"grey\" cx=\"14.5\" cy=\"-105.5\" rx=\"14.5\" ry=\"14.5\"/>\n",
       "<text text-anchor=\"middle\" x=\"14.5\" y=\"-101.8\" font-family=\"Times,serif\" font-size=\"14.00\">0</text>\n",
       "</g>\n",
       "<!-- 0&#45;&gt;0 -->\n",
       "<g id=\"edge1\" class=\"edge\">\n",
       "<title>0&#45;&gt;0</title>\n",
       "<path fill=\"none\" stroke=\"grey\" d=\"M25.49,-115.2C35.81,-120.23 47,-117 47,-105.5 47,-96.52 40.17,-92.58 32.26,-93.68\"/>\n",
       "<polygon fill=\"grey\" stroke=\"grey\" points=\"31.44,-91.37 25.49,-95.8 32.9,-96.05 31.44,-91.37\"/>\n",
       "</g>\n",
       "<!-- 1 -->\n",
       "<g id=\"node2\" class=\"node\">\n",
       "<title>1</title>\n",
       "<ellipse fill=\"#ffffff\" stroke=\"grey\" cx=\"14.5\" cy=\"-40.5\" rx=\"14.5\" ry=\"14.5\"/>\n",
       "<text text-anchor=\"middle\" x=\"14.5\" y=\"-36.8\" font-family=\"Times,serif\" font-size=\"14.00\">1</text>\n",
       "</g>\n",
       "<!-- 0&#45;&gt;1 -->\n",
       "<g id=\"edge2\" class=\"edge\">\n",
       "<title>0&#45;&gt;1</title>\n",
       "<path fill=\"none\" stroke=\"grey\" d=\"M9,-92.05C7.66,-83.17 7.4,-71.04 8.21,-60.89\"/>\n",
       "<polygon fill=\"grey\" stroke=\"grey\" points=\"10.65,-61.15 9,-53.92 5.78,-60.6 10.65,-61.15\"/>\n",
       "</g>\n",
       "<!-- 2 -->\n",
       "<g id=\"node3\" class=\"node\">\n",
       "<title>2</title>\n",
       "<ellipse fill=\"#ffffff\" stroke=\"grey\" cx=\"61.5\" cy=\"-40.5\" rx=\"14.5\" ry=\"14.5\"/>\n",
       "<text text-anchor=\"middle\" x=\"61.5\" y=\"-36.8\" font-family=\"Times,serif\" font-size=\"14.00\">2</text>\n",
       "</g>\n",
       "<!-- 0&#45;&gt;2 -->\n",
       "<g id=\"edge3\" class=\"edge\">\n",
       "<title>0&#45;&gt;2</title>\n",
       "<path fill=\"none\" stroke=\"grey\" d=\"M22.69,-93.53C29.88,-83.89 40.45,-69.71 48.75,-58.59\"/>\n",
       "<polygon fill=\"grey\" stroke=\"grey\" points=\"50.87,-59.85 53.09,-52.77 46.94,-56.92 50.87,-59.85\"/>\n",
       "</g>\n",
       "<!-- 1&#45;&gt;0 -->\n",
       "<g id=\"edge4\" class=\"edge\">\n",
       "<title>1&#45;&gt;0</title>\n",
       "<path fill=\"none\" stroke=\"grey\" d=\"M20,-53.92C21.34,-62.8 21.6,-74.93 20.79,-85.08\"/>\n",
       "<polygon fill=\"grey\" stroke=\"grey\" points=\"18.35,-84.82 20,-92.05 23.22,-85.37 18.35,-84.82\"/>\n",
       "</g>\n",
       "<!-- 2&#45;&gt;2 -->\n",
       "<g id=\"edge5\" class=\"edge\">\n",
       "<title>2&#45;&gt;2</title>\n",
       "<path fill=\"none\" stroke=\"grey\" d=\"M72.49,-50.2C82.81,-55.23 94,-52 94,-40.5 94,-31.52 87.17,-27.58 79.26,-28.68\"/>\n",
       "<polygon fill=\"grey\" stroke=\"grey\" points=\"78.44,-26.37 72.49,-30.8 79.9,-31.05 78.44,-26.37\"/>\n",
       "</g>\n",
       "</g>\n",
       "</svg>\n"
      ],
      "text/plain": [
       "<graphviz.graphs.Digraph at 0x7fb96def3580>"
      ]
     },
     "execution_count": 14,
     "metadata": {},
     "output_type": "execute_result"
    }
   ],
   "source": [
    "display(M2,title=\"M2\",dispo=\"dot\")\n",
    "# Pas transitif car 1 -> 0 et 0 -> 2 mais 1 !> 2"
   ]
  },
  {
   "cell_type": "code",
   "execution_count": 15,
   "id": "25f8b14c",
   "metadata": {},
   "outputs": [
    {
     "data": {
      "image/svg+xml": [
       "<?xml version=\"1.0\" encoding=\"UTF-8\" standalone=\"no\"?>\n",
       "<!DOCTYPE svg PUBLIC \"-//W3C//DTD SVG 1.1//EN\"\n",
       " \"http://www.w3.org/Graphics/SVG/1.1/DTD/svg11.dtd\">\n",
       "<!-- Generated by graphviz version 2.43.0 (0)\n",
       " -->\n",
       "<!-- Title: M3 Pages: 1 -->\n",
       "<svg width=\"85pt\" height=\"193pt\"\n",
       " viewBox=\"0.00 0.00 85.00 193.00\" xmlns=\"http://www.w3.org/2000/svg\" xmlns:xlink=\"http://www.w3.org/1999/xlink\">\n",
       "<g id=\"graph0\" class=\"graph\" transform=\"scale(1 1) rotate(0) translate(4 189)\">\n",
       "<title>M3</title>\n",
       "<polygon fill=\"transparent\" stroke=\"transparent\" points=\"-4,4 -4,-189 81,-189 81,4 -4,4\"/>\n",
       "<text text-anchor=\"middle\" x=\"38.5\" y=\"-9.2\" font-family=\"Times,serif\" font-size=\"16.00\" fill=\"grey\">M3</text>\n",
       "<!-- 0 -->\n",
       "<g id=\"node1\" class=\"node\">\n",
       "<title>0</title>\n",
       "<ellipse fill=\"#ffffff\" stroke=\"grey\" cx=\"44.5\" cy=\"-170.5\" rx=\"14.5\" ry=\"14.5\"/>\n",
       "<text text-anchor=\"middle\" x=\"44.5\" y=\"-166.8\" font-family=\"Times,serif\" font-size=\"14.00\">0</text>\n",
       "</g>\n",
       "<!-- 0&#45;&gt;0 -->\n",
       "<g id=\"edge1\" class=\"edge\">\n",
       "<title>0&#45;&gt;0</title>\n",
       "<path fill=\"none\" stroke=\"grey\" d=\"M55.49,-180.2C65.81,-185.23 77,-182 77,-170.5 77,-161.52 70.17,-157.58 62.26,-158.68\"/>\n",
       "<polygon fill=\"grey\" stroke=\"grey\" points=\"61.44,-156.37 55.49,-160.8 62.9,-161.05 61.44,-156.37\"/>\n",
       "</g>\n",
       "<!-- 1 -->\n",
       "<g id=\"node2\" class=\"node\">\n",
       "<title>1</title>\n",
       "<ellipse fill=\"#ffffff\" stroke=\"grey\" cx=\"14.5\" cy=\"-105.5\" rx=\"14.5\" ry=\"14.5\"/>\n",
       "<text text-anchor=\"middle\" x=\"14.5\" y=\"-101.8\" font-family=\"Times,serif\" font-size=\"14.00\">1</text>\n",
       "</g>\n",
       "<!-- 0&#45;&gt;1 -->\n",
       "<g id=\"edge2\" class=\"edge\">\n",
       "<title>0&#45;&gt;1</title>\n",
       "<path fill=\"none\" stroke=\"grey\" d=\"M38.57,-157.05C34.26,-147.99 28.34,-135.56 23.45,-125.3\"/>\n",
       "<polygon fill=\"grey\" stroke=\"grey\" points=\"25.64,-124.19 20.41,-118.92 21.21,-126.29 25.64,-124.19\"/>\n",
       "</g>\n",
       "<!-- 2 -->\n",
       "<g id=\"node3\" class=\"node\">\n",
       "<title>2</title>\n",
       "<ellipse fill=\"#ffffff\" stroke=\"grey\" cx=\"44.5\" cy=\"-40.5\" rx=\"14.5\" ry=\"14.5\"/>\n",
       "<text text-anchor=\"middle\" x=\"44.5\" y=\"-36.8\" font-family=\"Times,serif\" font-size=\"14.00\">2</text>\n",
       "</g>\n",
       "<!-- 0&#45;&gt;2 -->\n",
       "<g id=\"edge3\" class=\"edge\">\n",
       "<title>0&#45;&gt;2</title>\n",
       "<path fill=\"none\" stroke=\"grey\" d=\"M48.63,-156.21C51.48,-146.33 55.01,-132.47 56.5,-120 58.03,-107.2 58.03,-103.8 56.5,-91 55.34,-81.26 52.93,-70.67 50.57,-61.79\"/>\n",
       "<polygon fill=\"grey\" stroke=\"grey\" points=\"52.86,-60.88 48.63,-54.79 48.14,-62.19 52.86,-60.88\"/>\n",
       "</g>\n",
       "<!-- 1&#45;&gt;1 -->\n",
       "<g id=\"edge4\" class=\"edge\">\n",
       "<title>1&#45;&gt;1</title>\n",
       "<path fill=\"none\" stroke=\"grey\" d=\"M25.49,-115.2C35.81,-120.23 47,-117 47,-105.5 47,-96.52 40.17,-92.58 32.26,-93.68\"/>\n",
       "<polygon fill=\"grey\" stroke=\"grey\" points=\"31.44,-91.37 25.49,-95.8 32.9,-96.05 31.44,-91.37\"/>\n",
       "</g>\n",
       "<!-- 1&#45;&gt;2 -->\n",
       "<g id=\"edge5\" class=\"edge\">\n",
       "<title>1&#45;&gt;2</title>\n",
       "<path fill=\"none\" stroke=\"grey\" d=\"M20.43,-92.05C24.74,-82.99 30.66,-70.56 35.55,-60.3\"/>\n",
       "<polygon fill=\"grey\" stroke=\"grey\" points=\"37.79,-61.29 38.59,-53.92 33.36,-59.19 37.79,-61.29\"/>\n",
       "</g>\n",
       "<!-- 2&#45;&gt;2 -->\n",
       "<g id=\"edge6\" class=\"edge\">\n",
       "<title>2&#45;&gt;2</title>\n",
       "<path fill=\"none\" stroke=\"grey\" d=\"M55.49,-50.2C65.81,-55.23 77,-52 77,-40.5 77,-31.52 70.17,-27.58 62.26,-28.68\"/>\n",
       "<polygon fill=\"grey\" stroke=\"grey\" points=\"61.44,-26.37 55.49,-30.8 62.9,-31.05 61.44,-26.37\"/>\n",
       "</g>\n",
       "</g>\n",
       "</svg>\n"
      ],
      "text/plain": [
       "<graphviz.graphs.Digraph at 0x7fb9a0062c10>"
      ]
     },
     "execution_count": 15,
     "metadata": {},
     "output_type": "execute_result"
    }
   ],
   "source": [
    "display(M3,title=\"M3\", dispo=\"dot\")\n",
    "# Transitif car 0 -> 1, 1 -> 2 et 0 -> 2"
   ]
  },
  {
   "cell_type": "code",
   "execution_count": 16,
   "id": "89eefb0c",
   "metadata": {},
   "outputs": [
    {
     "data": {
      "image/svg+xml": [
       "<?xml version=\"1.0\" encoding=\"UTF-8\" standalone=\"no\"?>\n",
       "<!DOCTYPE svg PUBLIC \"-//W3C//DTD SVG 1.1//EN\"\n",
       " \"http://www.w3.org/Graphics/SVG/1.1/DTD/svg11.dtd\">\n",
       "<!-- Generated by graphviz version 2.43.0 (0)\n",
       " -->\n",
       "<!-- Title: M4 Pages: 1 -->\n",
       "<svg width=\"102pt\" height=\"128pt\"\n",
       " viewBox=\"0.00 0.00 102.00 128.00\" xmlns=\"http://www.w3.org/2000/svg\" xmlns:xlink=\"http://www.w3.org/1999/xlink\">\n",
       "<g id=\"graph0\" class=\"graph\" transform=\"scale(1 1) rotate(0) translate(4 124)\">\n",
       "<title>M4</title>\n",
       "<polygon fill=\"transparent\" stroke=\"transparent\" points=\"-4,4 -4,-124 98,-124 98,4 -4,4\"/>\n",
       "<text text-anchor=\"middle\" x=\"47\" y=\"-9.2\" font-family=\"Times,serif\" font-size=\"16.00\" fill=\"grey\">M4</text>\n",
       "<!-- 0 -->\n",
       "<g id=\"node1\" class=\"node\">\n",
       "<title>0</title>\n",
       "<ellipse fill=\"#ffffff\" stroke=\"grey\" cx=\"14.5\" cy=\"-105.5\" rx=\"14.5\" ry=\"14.5\"/>\n",
       "<text text-anchor=\"middle\" x=\"14.5\" y=\"-101.8\" font-family=\"Times,serif\" font-size=\"14.00\">0</text>\n",
       "</g>\n",
       "<!-- 0&#45;&gt;0 -->\n",
       "<g id=\"edge1\" class=\"edge\">\n",
       "<title>0&#45;&gt;0</title>\n",
       "<path fill=\"none\" stroke=\"grey\" d=\"M25.49,-115.2C35.81,-120.23 47,-117 47,-105.5 47,-96.52 40.17,-92.58 32.26,-93.68\"/>\n",
       "<polygon fill=\"grey\" stroke=\"grey\" points=\"31.44,-91.37 25.49,-95.8 32.9,-96.05 31.44,-91.37\"/>\n",
       "</g>\n",
       "<!-- 2 -->\n",
       "<g id=\"node3\" class=\"node\">\n",
       "<title>2</title>\n",
       "<ellipse fill=\"#ffffff\" stroke=\"grey\" cx=\"14.5\" cy=\"-40.5\" rx=\"14.5\" ry=\"14.5\"/>\n",
       "<text text-anchor=\"middle\" x=\"14.5\" y=\"-36.8\" font-family=\"Times,serif\" font-size=\"14.00\">2</text>\n",
       "</g>\n",
       "<!-- 0&#45;&gt;2 -->\n",
       "<g id=\"edge2\" class=\"edge\">\n",
       "<title>0&#45;&gt;2</title>\n",
       "<path fill=\"none\" stroke=\"grey\" d=\"M14.5,-90.83C14.5,-82.49 14.5,-71.67 14.5,-62.28\"/>\n",
       "<polygon fill=\"grey\" stroke=\"grey\" points=\"16.95,-62.14 14.5,-55.14 12.05,-62.14 16.95,-62.14\"/>\n",
       "</g>\n",
       "<!-- 1 -->\n",
       "<g id=\"node2\" class=\"node\">\n",
       "<title>1</title>\n",
       "<ellipse fill=\"#ffffff\" stroke=\"grey\" cx=\"79.5\" cy=\"-105.5\" rx=\"14.5\" ry=\"14.5\"/>\n",
       "<text text-anchor=\"middle\" x=\"79.5\" y=\"-101.8\" font-family=\"Times,serif\" font-size=\"14.00\">1</text>\n",
       "</g>\n",
       "</g>\n",
       "</svg>\n"
      ],
      "text/plain": [
       "<graphviz.graphs.Digraph at 0x7fb96def3760>"
      ]
     },
     "execution_count": 16,
     "metadata": {},
     "output_type": "execute_result"
    }
   ],
   "source": [
    "display(M4,title=\"M4\", dispo=\"dot\")\n",
    "# Transitif car 0 -> 2 et 0 -> 0"
   ]
  },
  {
   "cell_type": "code",
   "execution_count": 17,
   "id": "3c66cba3",
   "metadata": {},
   "outputs": [],
   "source": [
    "def transitive(M: list) -> bool:\n",
    "    MM = M + np.dot(M,M)\n",
    "    for i in range(len(M)):\n",
    "        for j in range(len(M)):\n",
    "            if (MM[i][j] > 1):\n",
    "                MM[i][j] = 1\n",
    "    return np.all(MM == M)"
   ]
  },
  {
   "cell_type": "code",
   "execution_count": 18,
   "id": "fd44b092",
   "metadata": {},
   "outputs": [
    {
     "name": "stdout",
     "output_type": "stream",
     "text": [
      "True False True True\n"
     ]
    }
   ],
   "source": [
    "print(transitive(M1),transitive(M2),transitive(M3),transitive(M4))"
   ]
  },
  {
   "cell_type": "markdown",
   "id": "5f30c848",
   "metadata": {},
   "source": [
    "## 2. Fermeture transitive"
   ]
  },
  {
   "cell_type": "code",
   "execution_count": 19,
   "id": "3c1e01de",
   "metadata": {},
   "outputs": [],
   "source": [
    "def puissance(A: list, p: int) -> list:\n",
    "    B = np.copy(A)\n",
    "    for i in range(p-1):\n",
    "        B = np.dot(A, B)\n",
    "    return B"
   ]
  },
  {
   "cell_type": "code",
   "execution_count": 20,
   "id": "85e18f4e",
   "metadata": {},
   "outputs": [],
   "source": [
    "def FT(M: list) -> list:\n",
    "    n = len(M)\n",
    "    MM = puissance(M,n)\n",
    "    for i in range(len(MM)):\n",
    "        for j in range(len(MM[i])):\n",
    "            if (MM[i][j] > 1):\n",
    "                MM[i][j] = 1\n",
    "    return MM"
   ]
  },
  {
   "cell_type": "code",
   "execution_count": 21,
   "id": "b8f98647",
   "metadata": {},
   "outputs": [
    {
     "data": {
      "image/svg+xml": [
       "<?xml version=\"1.0\" encoding=\"UTF-8\" standalone=\"no\"?>\n",
       "<!DOCTYPE svg PUBLIC \"-//W3C//DTD SVG 1.1//EN\"\n",
       " \"http://www.w3.org/Graphics/SVG/1.1/DTD/svg11.dtd\">\n",
       "<!-- Generated by graphviz version 2.43.0 (0)\n",
       " -->\n",
       "<!-- Title: FT(M2) Pages: 1 -->\n",
       "<svg width=\"85pt\" height=\"193pt\"\n",
       " viewBox=\"0.00 0.00 85.00 193.00\" xmlns=\"http://www.w3.org/2000/svg\" xmlns:xlink=\"http://www.w3.org/1999/xlink\">\n",
       "<g id=\"graph0\" class=\"graph\" transform=\"scale(1 1) rotate(0) translate(4 189)\">\n",
       "<title>FT(M2)</title>\n",
       "<polygon fill=\"transparent\" stroke=\"transparent\" points=\"-4,4 -4,-189 81,-189 81,4 -4,4\"/>\n",
       "<text text-anchor=\"middle\" x=\"38.5\" y=\"-9.2\" font-family=\"Times,serif\" font-size=\"16.00\" fill=\"grey\">FT(M2)</text>\n",
       "<!-- 0 -->\n",
       "<g id=\"node1\" class=\"node\">\n",
       "<title>0</title>\n",
       "<ellipse fill=\"#ffffff\" stroke=\"grey\" cx=\"14.5\" cy=\"-170.5\" rx=\"14.5\" ry=\"14.5\"/>\n",
       "<text text-anchor=\"middle\" x=\"14.5\" y=\"-166.8\" font-family=\"Times,serif\" font-size=\"14.00\">0</text>\n",
       "</g>\n",
       "<!-- 0&#45;&gt;0 -->\n",
       "<g id=\"edge1\" class=\"edge\">\n",
       "<title>0&#45;&gt;0</title>\n",
       "<path fill=\"none\" stroke=\"grey\" d=\"M25.49,-180.2C35.81,-185.23 47,-182 47,-170.5 47,-161.52 40.17,-157.58 32.26,-158.68\"/>\n",
       "<polygon fill=\"grey\" stroke=\"grey\" points=\"31.44,-156.37 25.49,-160.8 32.9,-161.05 31.44,-156.37\"/>\n",
       "</g>\n",
       "<!-- 1 -->\n",
       "<g id=\"node2\" class=\"node\">\n",
       "<title>1</title>\n",
       "<ellipse fill=\"#ffffff\" stroke=\"grey\" cx=\"14.5\" cy=\"-105.5\" rx=\"14.5\" ry=\"14.5\"/>\n",
       "<text text-anchor=\"middle\" x=\"14.5\" y=\"-101.8\" font-family=\"Times,serif\" font-size=\"14.00\">1</text>\n",
       "</g>\n",
       "<!-- 0&#45;&gt;1 -->\n",
       "<g id=\"edge2\" class=\"edge\">\n",
       "<title>0&#45;&gt;1</title>\n",
       "<path fill=\"none\" stroke=\"grey\" d=\"M9,-157.05C7.66,-148.17 7.4,-136.04 8.21,-125.89\"/>\n",
       "<polygon fill=\"grey\" stroke=\"grey\" points=\"10.65,-126.15 9,-118.92 5.78,-125.6 10.65,-126.15\"/>\n",
       "</g>\n",
       "<!-- 2 -->\n",
       "<g id=\"node3\" class=\"node\">\n",
       "<title>2</title>\n",
       "<ellipse fill=\"#ffffff\" stroke=\"grey\" cx=\"44.5\" cy=\"-40.5\" rx=\"14.5\" ry=\"14.5\"/>\n",
       "<text text-anchor=\"middle\" x=\"44.5\" y=\"-36.8\" font-family=\"Times,serif\" font-size=\"14.00\">2</text>\n",
       "</g>\n",
       "<!-- 0&#45;&gt;2 -->\n",
       "<g id=\"edge3\" class=\"edge\">\n",
       "<title>0&#45;&gt;2</title>\n",
       "<path fill=\"none\" stroke=\"grey\" d=\"M25.55,-160.64C35.8,-151.65 50.36,-136.72 56.5,-120 63.59,-100.7 58.34,-77.24 52.73,-61.02\"/>\n",
       "<polygon fill=\"grey\" stroke=\"grey\" points=\"54.9,-59.83 50.17,-54.12 50.31,-61.53 54.9,-59.83\"/>\n",
       "</g>\n",
       "<!-- 1&#45;&gt;0 -->\n",
       "<g id=\"edge4\" class=\"edge\">\n",
       "<title>1&#45;&gt;0</title>\n",
       "<path fill=\"none\" stroke=\"grey\" d=\"M20,-118.92C21.34,-127.8 21.6,-139.93 20.79,-150.08\"/>\n",
       "<polygon fill=\"grey\" stroke=\"grey\" points=\"18.35,-149.82 20,-157.05 23.22,-150.37 18.35,-149.82\"/>\n",
       "</g>\n",
       "<!-- 1&#45;&gt;1 -->\n",
       "<g id=\"edge5\" class=\"edge\">\n",
       "<title>1&#45;&gt;1</title>\n",
       "<path fill=\"none\" stroke=\"grey\" d=\"M25.49,-115.2C35.81,-120.23 47,-117 47,-105.5 47,-96.52 40.17,-92.58 32.26,-93.68\"/>\n",
       "<polygon fill=\"grey\" stroke=\"grey\" points=\"31.44,-91.37 25.49,-95.8 32.9,-96.05 31.44,-91.37\"/>\n",
       "</g>\n",
       "<!-- 1&#45;&gt;2 -->\n",
       "<g id=\"edge6\" class=\"edge\">\n",
       "<title>1&#45;&gt;2</title>\n",
       "<path fill=\"none\" stroke=\"grey\" d=\"M20.43,-92.05C24.74,-82.99 30.66,-70.56 35.55,-60.3\"/>\n",
       "<polygon fill=\"grey\" stroke=\"grey\" points=\"37.79,-61.29 38.59,-53.92 33.36,-59.19 37.79,-61.29\"/>\n",
       "</g>\n",
       "<!-- 2&#45;&gt;2 -->\n",
       "<g id=\"edge7\" class=\"edge\">\n",
       "<title>2&#45;&gt;2</title>\n",
       "<path fill=\"none\" stroke=\"grey\" d=\"M55.49,-50.2C65.81,-55.23 77,-52 77,-40.5 77,-31.52 70.17,-27.58 62.26,-28.68\"/>\n",
       "<polygon fill=\"grey\" stroke=\"grey\" points=\"61.44,-26.37 55.49,-30.8 62.9,-31.05 61.44,-26.37\"/>\n",
       "</g>\n",
       "</g>\n",
       "</svg>\n"
      ],
      "text/plain": [
       "<graphviz.graphs.Digraph at 0x7fb96def38b0>"
      ]
     },
     "execution_count": 21,
     "metadata": {},
     "output_type": "execute_result"
    }
   ],
   "source": [
    "display(FT(M2),title=\"FT(M2)\",dispo=\"dot\")"
   ]
  },
  {
   "cell_type": "markdown",
   "id": "b255a1fc",
   "metadata": {},
   "source": [
    "## 3. Relation binaire particulière"
   ]
  },
  {
   "cell_type": "markdown",
   "id": "c1e4dc1d",
   "metadata": {},
   "source": [
    "### 3.1 Exercice : relation d'équivalence"
   ]
  },
  {
   "cell_type": "code",
   "execution_count": 22,
   "id": "cbdb607d",
   "metadata": {},
   "outputs": [],
   "source": [
    "def equivalence(M: list) -> bool:\n",
    "    res = False\n",
    "    if (transitive(M) == True) and (reflexive(M) == True) and (symetrique(M) == True):\n",
    "        res = True\n",
    "    return res"
   ]
  },
  {
   "cell_type": "code",
   "execution_count": 23,
   "id": "529273e7",
   "metadata": {},
   "outputs": [
    {
     "name": "stdout",
     "output_type": "stream",
     "text": [
      "True False False\n"
     ]
    }
   ],
   "source": [
    "print(equivalence(M1),equivalence(M2),equivalence(M3))"
   ]
  },
  {
   "cell_type": "markdown",
   "id": "a8802a7b",
   "metadata": {},
   "source": [
    "### 3.2 Exercice : relation d'ordre"
   ]
  },
  {
   "cell_type": "code",
   "execution_count": 24,
   "id": "3069f9e4",
   "metadata": {},
   "outputs": [],
   "source": [
    "def ordre(M : list) -> bool:\n",
    "    bo = False\n",
    "    if (transitive(M) == True) and (reflexive(M) == True) and (antisymetrique(M) == True):\n",
    "        bo = True\n",
    "    return bo"
   ]
  },
  {
   "cell_type": "code",
   "execution_count": 25,
   "id": "b0a41d1b",
   "metadata": {},
   "outputs": [
    {
     "name": "stdout",
     "output_type": "stream",
     "text": [
      "False False True\n"
     ]
    }
   ],
   "source": [
    "print(ordre(M1),ordre(M2),ordre(M3))"
   ]
  },
  {
   "cell_type": "markdown",
   "id": "d2fc95ff",
   "metadata": {},
   "source": [
    "### 3.3 Bonus : diagramme de Hasse"
   ]
  },
  {
   "cell_type": "code",
   "execution_count": 26,
   "id": "a9808298",
   "metadata": {},
   "outputs": [],
   "source": [
    "def hasse(M: list) -> list:\n",
    "    n = len(M)\n",
    "    H = np.copy(M)\n",
    "    while reflexive(H):\n",
    "        for i in range(n):\n",
    "            if H[i][i] == 0:\n",
    "                H[i][i] = 1\n",
    "    HH = H + np.dot(H,H)\n",
    "    while transitive(H):\n",
    "        for i in range(len(H)):\n",
    "            for j in range(len(H)):\n",
    "                if (HH[i][j] > 1):\n",
    "                    HH[i][j] = 1\n",
    "        H = HH - np.diag(np.diag(HH))\n",
    "    return H"
   ]
  },
  {
   "cell_type": "code",
   "execution_count": 27,
   "id": "2435e5c0",
   "metadata": {},
   "outputs": [
    {
     "name": "stdout",
     "output_type": "stream",
     "text": [
      "[[1. 0. 1. 1.]\n",
      " [1. 1. 1. 1.]\n",
      " [0. 0. 1. 1.]\n",
      " [0. 0. 0. 1.]] True\n"
     ]
    }
   ],
   "source": [
    "M4=np.zeros((4,4))\n",
    "M4[0,0]=M4[0,2]=M4[0,3]=1\n",
    "M4[1,0]=M4[1,1]=M4[1,2]=M4[1,3]=1\n",
    "M4[2,2]=M4[2,3]=1\n",
    "M4[3,3]=1\n",
    "print(M4, ordre(M4))"
   ]
  },
  {
   "cell_type": "code",
   "execution_count": 28,
   "id": "7416e3c2",
   "metadata": {
    "scrolled": true
   },
   "outputs": [
    {
     "ename": "KeyboardInterrupt",
     "evalue": "",
     "output_type": "error",
     "traceback": [
      "\u001b[0;31m---------------------------------------------------------------------------\u001b[0m",
      "\u001b[0;31mKeyboardInterrupt\u001b[0m                         Traceback (most recent call last)",
      "Input \u001b[0;32mIn [28]\u001b[0m, in \u001b[0;36m<module>\u001b[0;34m\u001b[0m\n\u001b[0;32m----> 1\u001b[0m display(\u001b[43mhasse\u001b[49m\u001b[43m(\u001b[49m\u001b[43mM4\u001b[49m\u001b[43m)\u001b[49m,title\u001b[38;5;241m=\u001b[39m\u001b[38;5;124m\"\u001b[39m\u001b[38;5;124mHasse de M4\u001b[39m\u001b[38;5;124m\"\u001b[39m)\n",
      "Input \u001b[0;32mIn [26]\u001b[0m, in \u001b[0;36mhasse\u001b[0;34m(M)\u001b[0m\n\u001b[1;32m      2\u001b[0m n \u001b[38;5;241m=\u001b[39m \u001b[38;5;28mlen\u001b[39m(M)\n\u001b[1;32m      3\u001b[0m H \u001b[38;5;241m=\u001b[39m np\u001b[38;5;241m.\u001b[39mcopy(M)\n\u001b[0;32m----> 4\u001b[0m \u001b[38;5;28;01mwhile\u001b[39;00m \u001b[43mreflexive\u001b[49m\u001b[43m(\u001b[49m\u001b[43mH\u001b[49m\u001b[43m)\u001b[49m:\n\u001b[1;32m      5\u001b[0m     \u001b[38;5;28;01mfor\u001b[39;00m i \u001b[38;5;129;01min\u001b[39;00m \u001b[38;5;28mrange\u001b[39m(n):\n\u001b[1;32m      6\u001b[0m         \u001b[38;5;28;01mif\u001b[39;00m H[i][i] \u001b[38;5;241m==\u001b[39m \u001b[38;5;241m0\u001b[39m:\n",
      "Input \u001b[0;32mIn [7]\u001b[0m, in \u001b[0;36mreflexive\u001b[0;34m(M)\u001b[0m\n\u001b[1;32m      3\u001b[0m n \u001b[38;5;241m=\u001b[39m \u001b[38;5;28mlen\u001b[39m(M)\n\u001b[1;32m      4\u001b[0m \u001b[38;5;28;01mfor\u001b[39;00m i \u001b[38;5;129;01min\u001b[39;00m \u001b[38;5;28mrange\u001b[39m(n):\n\u001b[0;32m----> 5\u001b[0m     \u001b[38;5;28;01mif\u001b[39;00m \u001b[38;5;129;01mnot\u001b[39;00m \u001b[43mM\u001b[49m\u001b[43m[\u001b[49m\u001b[43mi\u001b[49m\u001b[43m]\u001b[49m[i]:\n\u001b[1;32m      6\u001b[0m         res \u001b[38;5;241m=\u001b[39m \u001b[38;5;28;01mFalse\u001b[39;00m\n\u001b[1;32m      7\u001b[0m \u001b[38;5;28;01mreturn\u001b[39;00m res\n",
      "\u001b[0;31mKeyboardInterrupt\u001b[0m: "
     ]
    }
   ],
   "source": [
    "display(hasse(M4),title=\"Hasse de M4\")"
   ]
  },
  {
   "cell_type": "code",
   "execution_count": null,
   "id": "d5b39f17",
   "metadata": {},
   "outputs": [],
   "source": [
    "def matdiv(n: int) -> list:\n",
    "    # A FINIR"
   ]
  },
  {
   "cell_type": "code",
   "execution_count": null,
   "id": "49468a6e",
   "metadata": {},
   "outputs": [],
   "source": [
    "matdiv(8)"
   ]
  },
  {
   "cell_type": "code",
   "execution_count": null,
   "id": "c3ece466",
   "metadata": {},
   "outputs": [],
   "source": [
    "display(hasse(matdiv(8)), label=[1,2,3,4,5,6,7,8], title=\"matdiv(8)\")"
   ]
  }
 ],
 "metadata": {
  "kernelspec": {
   "display_name": "Python 3 (ipykernel)",
   "language": "python",
   "name": "python3"
  },
  "language_info": {
   "codemirror_mode": {
    "name": "ipython",
    "version": 3
   },
   "file_extension": ".py",
   "mimetype": "text/x-python",
   "name": "python",
   "nbconvert_exporter": "python",
   "pygments_lexer": "ipython3",
   "version": "3.8.10"
  }
 },
 "nbformat": 4,
 "nbformat_minor": 5
}
